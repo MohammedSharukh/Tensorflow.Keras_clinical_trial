{
 "cells": [
  {
   "cell_type": "code",
   "execution_count": 1,
   "id": "833c64aa",
   "metadata": {},
   "outputs": [],
   "source": [
    "import numpy as np\n",
    "from random import randint\n",
    "from sklearn.utils import shuffle\n",
    "from sklearn.preprocessing import MinMaxScaler"
   ]
  },
  {
   "cell_type": "code",
   "execution_count": 2,
   "id": "7ac25625",
   "metadata": {},
   "outputs": [],
   "source": [
    "train_labels = []\n",
    "train_samples = []"
   ]
  },
  {
   "cell_type": "code",
   "execution_count": 4,
   "id": "2d1c17d5",
   "metadata": {},
   "outputs": [],
   "source": [
    "for i in range(50):  \n",
    "    #The 5% of younger individuals who experienced side effects\n",
    "    random_younger = randint(13,64)\n",
    "    train_samples.append(random_younger)\n",
    "    train_labels.append(1)\n",
    "    \n",
    "    #The 5% of older individuals who did not experience side effects\n",
    "    random_older = randint(65,100)\n",
    "    train_samples.append(random_older)\n",
    "    train_labels.append(0)\n",
    "    \n",
    "for i in range(1000):  \n",
    "    #The 95% of younger individuals who did not experience the side effects\n",
    "    random_younger = randint(13,64)\n",
    "    train_samples.append(random_younger)\n",
    "    train_labels.append(0)\n",
    "    \n",
    "    #The 95% of older individuals who experienced the side effects\n",
    "    random_older = randint(65,100)\n",
    "    train_samples.append(random_older)\n",
    "    train_labels.append(1)"
   ]
  },
  {
   "cell_type": "code",
   "execution_count": 5,
   "id": "ea4bcf13",
   "metadata": {},
   "outputs": [],
   "source": [
    "train_labels = np.array(train_labels)\n",
    "train_samples = np.array(train_samples)\n",
    "train_labels, train_samples = shuffle(train_labels, train_samples)"
   ]
  },
  {
   "cell_type": "code",
   "execution_count": 10,
   "id": "42f26ce7",
   "metadata": {},
   "outputs": [
    {
     "data": {
      "text/plain": [
       "array([75, 25, 61, ..., 34, 53, 93])"
      ]
     },
     "execution_count": 10,
     "metadata": {},
     "output_type": "execute_result"
    }
   ],
   "source": [
    "train_samples"
   ]
  },
  {
   "cell_type": "code",
   "execution_count": 11,
   "id": "423d1cf6",
   "metadata": {},
   "outputs": [
    {
     "data": {
      "text/plain": [
       "array([1, 0, 1, ..., 0, 1, 1])"
      ]
     },
     "execution_count": 11,
     "metadata": {},
     "output_type": "execute_result"
    }
   ],
   "source": [
    "train_labels"
   ]
  },
  {
   "cell_type": "code",
   "execution_count": 6,
   "id": "f365f3f1",
   "metadata": {},
   "outputs": [],
   "source": [
    "scaler = MinMaxScaler(feature_range=(0,1))\n",
    "scaled_train_samples = scaler.fit_transform(train_samples.reshape(-1,1))"
   ]
  },
  {
   "cell_type": "code",
   "execution_count": 7,
   "id": "51c9b7be",
   "metadata": {},
   "outputs": [
    {
     "data": {
      "text/plain": [
       "array([[0.71264368],\n",
       "       [0.13793103],\n",
       "       [0.55172414],\n",
       "       ...,\n",
       "       [0.24137931],\n",
       "       [0.45977011],\n",
       "       [0.91954023]])"
      ]
     },
     "execution_count": 7,
     "metadata": {},
     "output_type": "execute_result"
    }
   ],
   "source": [
    "scaled_train_samples"
   ]
  },
  {
   "cell_type": "code",
   "execution_count": 12,
   "id": "f4c21a31",
   "metadata": {},
   "outputs": [],
   "source": [
    "import tensorflow as tf\n",
    "from tensorflow import keras\n",
    "from tensorflow.keras.models import Sequential\n",
    "from tensorflow.keras.layers import Activation, Dense\n",
    "from tensorflow.keras.optimizers import Adam\n",
    "from tensorflow.keras.metrics import categorical_crossentropy"
   ]
  },
  {
   "cell_type": "code",
   "execution_count": 13,
   "id": "02e874f8",
   "metadata": {},
   "outputs": [],
   "source": [
    "model = Sequential([\n",
    "    Dense(units=16, input_shape=(1,), activation='relu'),\n",
    "    Dense(units=32, activation='relu'),\n",
    "    Dense(units=2, activation='softmax')\n",
    "])"
   ]
  },
  {
   "cell_type": "code",
   "execution_count": 14,
   "id": "611c171d",
   "metadata": {},
   "outputs": [
    {
     "name": "stdout",
     "output_type": "stream",
     "text": [
      "Model: \"sequential\"\n",
      "_________________________________________________________________\n",
      " Layer (type)                Output Shape              Param #   \n",
      "=================================================================\n",
      " dense (Dense)               (None, 16)                32        \n",
      "                                                                 \n",
      " dense_1 (Dense)             (None, 32)                544       \n",
      "                                                                 \n",
      " dense_2 (Dense)             (None, 2)                 66        \n",
      "                                                                 \n",
      "=================================================================\n",
      "Total params: 642\n",
      "Trainable params: 642\n",
      "Non-trainable params: 0\n",
      "_________________________________________________________________\n"
     ]
    }
   ],
   "source": [
    "model.summary()"
   ]
  },
  {
   "cell_type": "code",
   "execution_count": 15,
   "id": "83259b10",
   "metadata": {},
   "outputs": [],
   "source": [
    "model.compile(optimizer=Adam(learning_rate=0.0001), loss='sparse_categorical_crossentropy', metrics=['accuracy'])"
   ]
  },
  {
   "cell_type": "code",
   "execution_count": 16,
   "id": "8e74f398",
   "metadata": {},
   "outputs": [
    {
     "name": "stdout",
     "output_type": "stream",
     "text": [
      "Epoch 1/30\n",
      "210/210 - 2s - loss: 0.6758 - accuracy: 0.5552 - 2s/epoch - 12ms/step\n",
      "Epoch 2/30\n",
      "210/210 - 1s - loss: 0.6448 - accuracy: 0.6248 - 534ms/epoch - 3ms/step\n",
      "Epoch 3/30\n",
      "210/210 - 1s - loss: 0.6071 - accuracy: 0.7214 - 533ms/epoch - 3ms/step\n",
      "Epoch 4/30\n",
      "210/210 - 1s - loss: 0.5614 - accuracy: 0.7933 - 533ms/epoch - 3ms/step\n",
      "Epoch 5/30\n",
      "210/210 - 1s - loss: 0.5186 - accuracy: 0.8319 - 550ms/epoch - 3ms/step\n",
      "Epoch 6/30\n",
      "210/210 - 1s - loss: 0.4789 - accuracy: 0.8524 - 583ms/epoch - 3ms/step\n",
      "Epoch 7/30\n",
      "210/210 - 1s - loss: 0.4427 - accuracy: 0.8771 - 533ms/epoch - 3ms/step\n",
      "Epoch 8/30\n",
      "210/210 - 1s - loss: 0.4102 - accuracy: 0.8838 - 533ms/epoch - 3ms/step\n",
      "Epoch 9/30\n",
      "210/210 - 1s - loss: 0.3825 - accuracy: 0.9005 - 517ms/epoch - 2ms/step\n",
      "Epoch 10/30\n",
      "210/210 - 1s - loss: 0.3596 - accuracy: 0.9114 - 554ms/epoch - 3ms/step\n",
      "Epoch 11/30\n",
      "210/210 - 1s - loss: 0.3402 - accuracy: 0.9143 - 557ms/epoch - 3ms/step\n",
      "Epoch 12/30\n",
      "210/210 - 1s - loss: 0.3248 - accuracy: 0.9224 - 510ms/epoch - 2ms/step\n",
      "Epoch 13/30\n",
      "210/210 - 0s - loss: 0.3125 - accuracy: 0.9252 - 500ms/epoch - 2ms/step\n",
      "Epoch 14/30\n",
      "210/210 - 0s - loss: 0.3026 - accuracy: 0.9257 - 500ms/epoch - 2ms/step\n",
      "Epoch 15/30\n",
      "210/210 - 1s - loss: 0.2947 - accuracy: 0.9252 - 520ms/epoch - 2ms/step\n",
      "Epoch 16/30\n",
      "210/210 - 1s - loss: 0.2880 - accuracy: 0.9252 - 516ms/epoch - 2ms/step\n",
      "Epoch 17/30\n",
      "210/210 - 1s - loss: 0.2828 - accuracy: 0.9314 - 526ms/epoch - 3ms/step\n",
      "Epoch 18/30\n",
      "210/210 - 1s - loss: 0.2784 - accuracy: 0.9295 - 506ms/epoch - 2ms/step\n",
      "Epoch 19/30\n",
      "210/210 - 1s - loss: 0.2747 - accuracy: 0.9281 - 543ms/epoch - 3ms/step\n",
      "Epoch 20/30\n",
      "210/210 - 1s - loss: 0.2717 - accuracy: 0.9310 - 531ms/epoch - 3ms/step\n",
      "Epoch 21/30\n",
      "210/210 - 1s - loss: 0.2692 - accuracy: 0.9305 - 567ms/epoch - 3ms/step\n",
      "Epoch 22/30\n",
      "210/210 - 1s - loss: 0.2668 - accuracy: 0.9338 - 585ms/epoch - 3ms/step\n",
      "Epoch 23/30\n",
      "210/210 - 1s - loss: 0.2651 - accuracy: 0.9314 - 565ms/epoch - 3ms/step\n",
      "Epoch 24/30\n",
      "210/210 - 1s - loss: 0.2635 - accuracy: 0.9333 - 517ms/epoch - 2ms/step\n",
      "Epoch 25/30\n",
      "210/210 - 1s - loss: 0.2619 - accuracy: 0.9333 - 583ms/epoch - 3ms/step\n",
      "Epoch 26/30\n",
      "210/210 - 1s - loss: 0.2605 - accuracy: 0.9338 - 517ms/epoch - 2ms/step\n",
      "Epoch 27/30\n",
      "210/210 - 1s - loss: 0.2597 - accuracy: 0.9348 - 583ms/epoch - 3ms/step\n",
      "Epoch 28/30\n",
      "210/210 - 1s - loss: 0.2585 - accuracy: 0.9386 - 517ms/epoch - 2ms/step\n",
      "Epoch 29/30\n",
      "210/210 - 1s - loss: 0.2576 - accuracy: 0.9357 - 514ms/epoch - 2ms/step\n",
      "Epoch 30/30\n",
      "210/210 - 1s - loss: 0.2566 - accuracy: 0.9348 - 518ms/epoch - 2ms/step\n"
     ]
    },
    {
     "data": {
      "text/plain": [
       "<keras.callbacks.History at 0x2254e401850>"
      ]
     },
     "execution_count": 16,
     "metadata": {},
     "output_type": "execute_result"
    }
   ],
   "source": [
    "model.fit(x=scaled_train_samples, y=train_labels, batch_size=10, epochs=30, shuffle=True, verbose=2)"
   ]
  },
  {
   "cell_type": "code",
   "execution_count": 17,
   "id": "236b7c9f",
   "metadata": {},
   "outputs": [],
   "source": [
    "test_labels = []\n",
    "test_samples = []"
   ]
  },
  {
   "cell_type": "code",
   "execution_count": 18,
   "id": "6eda29f5",
   "metadata": {},
   "outputs": [],
   "source": [
    "for i in range(10):  \n",
    "    #The 5% of younger individuals who experienced side effects\n",
    "    random_younger = randint(13,64)\n",
    "    test_samples.append(random_younger)\n",
    "    test_labels.append(1)\n",
    "    \n",
    "    #The 5% of older individuals who did not experience side effects\n",
    "    random_older = randint(65,100)\n",
    "    test_samples.append(random_older)\n",
    "    test_labels.append(0)\n",
    "    \n",
    "for i in range(200):  \n",
    "    #The 95% of younger individuals who did not experience the side effects\n",
    "    random_younger = randint(13,64)\n",
    "    test_samples.append(random_younger)\n",
    "    test_labels.append(0)\n",
    "    \n",
    "    #The 95% of older individuals who experienced the side effects\n",
    "    random_older = randint(65,100)\n",
    "    test_samples.append(random_older)\n",
    "    test_labels.append(1)"
   ]
  },
  {
   "cell_type": "code",
   "execution_count": 26,
   "id": "9e8f5b4a",
   "metadata": {},
   "outputs": [],
   "source": [
    "test_labels = np.array(test_labels)\n",
    "test_samples = np.array(test_samples)\n",
    "test_labels, test_samples = shuffle(test_labels, test_samples)"
   ]
  },
  {
   "cell_type": "code",
   "execution_count": 27,
   "id": "03a58eed",
   "metadata": {},
   "outputs": [
    {
     "data": {
      "text/plain": [
       "array([ 71,  93,  19,  80,  64,  63,  63,  95,  54,  89,  35,  53,  82,\n",
       "        85,  40,  81,  97,  76,  21,  90,  88,  29,  90,  85,  96,  21,\n",
       "        89,  50,  45,  46,  57,  85,  43,  86,  85,  86,  37,  71,  15,\n",
       "        96,  79,  48,  46,  18,  37,  37,  48,  94,  89,  14,  68,  55,\n",
       "        69,  50,  51,  41,  15,  18,  31,  45,  88,  57,  92,  58,  74,\n",
       "        73,  70,  92,  98,  74,  96,  72,  92,  94,  51,  47,  19,  66,\n",
       "        16,  20,  97,  83,  66,  91,  15, 100,  95,  99,  31,  19,  82,\n",
       "        66,  29,  51,  17,  72,  61,  16,  22,  74,  57,  80,  62,  15,\n",
       "        20,  26,  51,  95,  29,  19,  46,  73,  81,  99,  43,  16,  93,\n",
       "        89,  30,  84,  89,  71,  84,  89,  66,  95,  93,  76,  64,  47,\n",
       "        99,  43,  72,  18,  66,  94,  29,  62,  74,  96,  85,  47,  69,\n",
       "        28,  52,  26,  99,  88,  45,  17,  80,  84,  77,  70,  77,  41,\n",
       "        40,  29,  90,  44,  18,  59,  84,  88,  69,  64,  73,  59,  85,\n",
       "        85,  31,  94,  72,  28,  27,  82,  26,  50,  76,  89,  17,  25,\n",
       "        76,  74,  80,  91,  15,  21,  87,  21,  26,  87,  81,  40,  75,\n",
       "        42,  76,  19,  70,  29,  41,  55,  25,  20,  58,  71,  16,  95,\n",
       "        78,  67,  40,  36,  85,  19,  78,  78,  80,  38,  48,  47,  37,\n",
       "        17,  26,  96,  66,  52,  90,  62,  67,  64,  91,  20,  61,  36,\n",
       "        94,  65,  37,  38,  50,  89,  72,  80,  73,  20,  52,  30,  26,\n",
       "        25,  35,  81,  15,  99,  75,  21,  50,  74,  90,  64,  92,  88,\n",
       "        52,  27,  97,  58,  55,  76,  75,  43,  53,  73,  50,  93,  87,\n",
       "        24,  63,  92,  77,  55,  92,  79,  69,  27,  51,  76,  35,  88,\n",
       "        70,  32,  92,  86,  13,  82,  42,  65,  37,  15,  49, 100,  48,\n",
       "        60,  48,  65,  87,  79,  74,  97, 100,  49,  91,  37,  69,  26,\n",
       "        42,  14,  92,  66,  86,  57,  73,  34,  16,  66,  52,  68,  52,\n",
       "        59,  21,  56,  96,  59,  27,  94,  24, 100,  91,  19,  68,  26,\n",
       "        68,  21,  86,  73,  94,  86,  73,  50,  26,  78,  42,  68,  99,\n",
       "        55,  65,  71,  76,  73,  16,  87,  72,  59,  77,  65,  68,  15,\n",
       "        66,  68,  98,  76,  95,  84,  67,  32,  35,  16,  31,  91,  28,\n",
       "        68,  29,  92,  70,  29,  92,  84,  49,  44,  50,  37,  51, 100,\n",
       "        50,  26,  48,  48,  26,  64,  16,  64,  50,  72,  95,  67,  39,\n",
       "        55,  26,  46,  22,  13,  63,  66,  22,  99,  78,  67,  13,  47,\n",
       "        36,  86,  69,  66])"
      ]
     },
     "execution_count": 27,
     "metadata": {},
     "output_type": "execute_result"
    }
   ],
   "source": [
    "test_samples"
   ]
  },
  {
   "cell_type": "code",
   "execution_count": 28,
   "id": "8c6b00a3",
   "metadata": {},
   "outputs": [
    {
     "data": {
      "text/plain": [
       "array([1, 1, 0, 1, 0, 0, 0, 1, 0, 1, 0, 0, 1, 1, 0, 0, 1, 1, 0, 1, 1, 0,\n",
       "       1, 1, 1, 0, 1, 0, 0, 0, 0, 1, 0, 1, 1, 1, 0, 1, 0, 1, 1, 0, 0, 0,\n",
       "       0, 0, 0, 1, 1, 0, 0, 0, 1, 0, 0, 0, 0, 0, 0, 0, 1, 0, 1, 0, 1, 1,\n",
       "       1, 1, 1, 0, 1, 1, 1, 1, 0, 0, 0, 0, 0, 0, 1, 1, 1, 1, 0, 1, 1, 1,\n",
       "       0, 0, 1, 1, 0, 0, 0, 1, 0, 0, 0, 1, 0, 1, 0, 0, 0, 0, 1, 1, 0, 0,\n",
       "       0, 1, 1, 1, 0, 0, 1, 1, 0, 1, 1, 1, 1, 1, 0, 1, 1, 1, 0, 0, 1, 0,\n",
       "       1, 0, 1, 1, 0, 0, 1, 1, 1, 0, 1, 0, 0, 0, 1, 1, 0, 0, 1, 1, 1, 1,\n",
       "       1, 0, 1, 0, 1, 0, 0, 0, 1, 1, 1, 0, 1, 0, 1, 1, 0, 1, 1, 0, 0, 1,\n",
       "       0, 1, 1, 1, 0, 0, 1, 1, 1, 1, 0, 0, 1, 0, 0, 1, 1, 0, 0, 0, 1, 0,\n",
       "       1, 0, 0, 0, 0, 0, 0, 1, 0, 1, 1, 1, 1, 0, 0, 0, 1, 1, 1, 0, 0, 0,\n",
       "       0, 0, 0, 1, 1, 0, 1, 0, 1, 0, 1, 0, 0, 0, 1, 1, 0, 0, 0, 1, 1, 1,\n",
       "       1, 0, 0, 0, 0, 0, 0, 1, 0, 1, 1, 0, 0, 1, 1, 0, 1, 1, 0, 0, 1, 0,\n",
       "       0, 1, 1, 0, 0, 1, 0, 1, 1, 0, 0, 1, 1, 0, 1, 1, 1, 0, 0, 1, 1, 1,\n",
       "       1, 0, 1, 1, 0, 1, 0, 1, 1, 0, 0, 1, 0, 0, 0, 1, 1, 1, 1, 1, 1, 0,\n",
       "       1, 0, 1, 0, 0, 0, 1, 1, 1, 0, 1, 0, 0, 1, 0, 1, 0, 0, 0, 1, 1, 0,\n",
       "       0, 1, 0, 1, 1, 0, 1, 0, 0, 0, 1, 1, 1, 1, 1, 1, 0, 1, 0, 1, 1, 0,\n",
       "       1, 1, 1, 1, 0, 1, 1, 0, 1, 1, 1, 0, 1, 1, 1, 1, 1, 1, 1, 0, 0, 0,\n",
       "       0, 1, 0, 1, 0, 1, 1, 0, 1, 1, 0, 0, 0, 0, 0, 0, 0, 1, 0, 0, 0, 0,\n",
       "       0, 0, 0, 1, 0, 1, 0, 0, 0, 0, 0, 0, 0, 1, 0, 1, 1, 1, 1, 0, 0, 1,\n",
       "       1, 1])"
      ]
     },
     "execution_count": 28,
     "metadata": {},
     "output_type": "execute_result"
    }
   ],
   "source": [
    "test_labels"
   ]
  },
  {
   "cell_type": "code",
   "execution_count": 35,
   "id": "3b35bca1",
   "metadata": {},
   "outputs": [],
   "source": [
    "scaled_test_samples = scaler.fit_transform(test_samples.reshape(-1,1))"
   ]
  },
  {
   "cell_type": "code",
   "execution_count": 37,
   "id": "498ec4dd",
   "metadata": {},
   "outputs": [],
   "source": [
    "predictions = model.predict(x=scaled_test_samples, batch_size=10, verbose=0)"
   ]
  },
  {
   "cell_type": "code",
   "execution_count": 39,
   "id": "9c0c7db7",
   "metadata": {},
   "outputs": [],
   "source": [
    "rounded_predictions = np.argmax(predictions, axis=-1)"
   ]
  },
  {
   "cell_type": "code",
   "execution_count": 40,
   "id": "a7276efd",
   "metadata": {},
   "outputs": [
    {
     "data": {
      "text/plain": [
       "array([1, 1, 0, 1, 1, 1, 1, 1, 0, 1, 0, 0, 1, 1, 0, 1, 1, 1, 0, 1, 1, 0,\n",
       "       1, 1, 1, 0, 1, 0, 0, 0, 0, 1, 0, 1, 1, 1, 0, 1, 0, 1, 1, 0, 0, 0,\n",
       "       0, 0, 0, 1, 1, 0, 1, 0, 1, 0, 0, 0, 0, 0, 0, 0, 1, 0, 1, 0, 1, 1,\n",
       "       1, 1, 1, 1, 1, 1, 1, 1, 0, 0, 0, 1, 0, 0, 1, 1, 1, 1, 0, 1, 1, 1,\n",
       "       0, 0, 1, 1, 0, 0, 0, 1, 0, 0, 0, 1, 0, 1, 0, 0, 0, 0, 0, 1, 0, 0,\n",
       "       0, 1, 1, 1, 0, 0, 1, 1, 0, 1, 1, 1, 1, 1, 1, 1, 1, 1, 1, 0, 1, 0,\n",
       "       1, 0, 1, 1, 0, 0, 1, 1, 1, 0, 1, 0, 0, 0, 1, 1, 0, 0, 1, 1, 1, 1,\n",
       "       1, 0, 0, 0, 1, 0, 0, 0, 1, 1, 1, 1, 1, 0, 1, 1, 0, 1, 1, 0, 0, 1,\n",
       "       0, 0, 1, 1, 0, 0, 1, 1, 1, 1, 0, 0, 1, 0, 0, 1, 1, 0, 1, 0, 1, 0,\n",
       "       1, 0, 0, 0, 0, 0, 0, 1, 0, 1, 1, 1, 0, 0, 1, 0, 1, 1, 1, 0, 0, 0,\n",
       "       0, 0, 0, 1, 1, 0, 1, 0, 1, 1, 1, 0, 0, 0, 1, 1, 0, 0, 0, 1, 1, 1,\n",
       "       1, 0, 0, 0, 0, 0, 0, 1, 0, 1, 1, 0, 0, 1, 1, 1, 1, 1, 0, 0, 1, 0,\n",
       "       0, 1, 1, 0, 0, 1, 0, 1, 1, 0, 1, 1, 1, 0, 1, 1, 1, 0, 0, 1, 0, 1,\n",
       "       1, 0, 1, 1, 0, 1, 0, 1, 0, 0, 0, 1, 0, 0, 0, 1, 1, 1, 1, 1, 1, 0,\n",
       "       1, 0, 1, 0, 0, 0, 1, 1, 1, 0, 1, 0, 0, 1, 0, 1, 0, 0, 0, 0, 1, 0,\n",
       "       0, 1, 0, 1, 1, 0, 1, 0, 1, 0, 1, 1, 1, 1, 1, 0, 0, 1, 0, 1, 1, 0,\n",
       "       1, 1, 1, 1, 0, 1, 1, 0, 1, 1, 1, 0, 1, 1, 1, 1, 1, 1, 1, 0, 0, 0,\n",
       "       0, 1, 0, 1, 0, 1, 1, 0, 1, 1, 0, 0, 0, 0, 0, 1, 0, 0, 0, 0, 0, 1,\n",
       "       0, 1, 0, 1, 1, 1, 0, 0, 0, 0, 0, 0, 1, 1, 0, 1, 1, 1, 0, 0, 0, 1,\n",
       "       1, 1], dtype=int64)"
      ]
     },
     "execution_count": 40,
     "metadata": {},
     "output_type": "execute_result"
    }
   ],
   "source": [
    "rounded_predictions"
   ]
  },
  {
   "cell_type": "code",
   "execution_count": 41,
   "id": "b21c0b50",
   "metadata": {},
   "outputs": [],
   "source": [
    "%matplotlib inline\n",
    "from sklearn.metrics import confusion_matrix\n",
    "import itertools\n",
    "import matplotlib.pyplot as plt"
   ]
  },
  {
   "cell_type": "code",
   "execution_count": 42,
   "id": "03781c4b",
   "metadata": {},
   "outputs": [],
   "source": [
    "cm = confusion_matrix(y_true = test_labels, y_pred=rounded_predictions)"
   ]
  },
  {
   "cell_type": "code",
   "execution_count": 43,
   "id": "99ad9b67",
   "metadata": {},
   "outputs": [],
   "source": [
    "def plot_confusion_matrix(cm, classes, normalize=False, title='Confusion matrix', cmap=plt.cm.Blues):\n",
    "    \n",
    "    plt.imshow(cm, interpolation='nearest', cmap=cmap)\n",
    "    plt.title(title)\n",
    "    plt.colorbar()\n",
    "    tick_marks = np.arange(len(classes))\n",
    "    plt.xticks(tick_marks, classes, rotation=45)\n",
    "    plt.yticks(tick_marks, classes)\n",
    "    \n",
    "    if normalize:\n",
    "        cm = cm.astype('float') / cm.sum(axis=1)[:, np.newaxis]\n",
    "        print('Normalized confusion matrix')\n",
    "    else:\n",
    "        print('Confusion matrix, without normalization')\n",
    "        \n",
    "    print(cm)\n",
    "    \n",
    "    thresh = cm.max() / 2.\n",
    "    for i, j in itertools.product(range(cm.shape[0]), range(cm.shape[1])):\n",
    "        plt.text(j, i, cm[i, j], horizontalalignment='center', color='white' if cm[i, j] > thresh else 'black')\n",
    "        \n",
    "    plt.tight_layout()\n",
    "    plt.ylabel('True label')\n",
    "    plt.xlabel('Predicted label')"
   ]
  },
  {
   "cell_type": "code",
   "execution_count": 44,
   "id": "26021c73",
   "metadata": {},
   "outputs": [
    {
     "name": "stdout",
     "output_type": "stream",
     "text": [
      "Confusion matrix, without normalization\n",
      "[[189  21]\n",
      " [ 10 200]]\n"
     ]
    },
    {
     "data": {
      "image/png": "[encoded data removed]",
      "text/plain": [
       "<Figure size 640x480 with 2 Axes>"
      ]
     },
     "metadata": {},
     "output_type": "display_data"
    }
   ],
   "source": [
    "cm_plot_labels = ['no_side_effects','had_side_effects']\n",
    "plot_confusion_matrix(cm=cm, classes=cm_plot_labels, title='Confusion Matrix')"
   ]
  },
  {
   "cell_type": "code",
   "execution_count": null,
   "id": "afd8620f",
   "metadata": {},
   "outputs": [],
   "source": []
  }
 ],
 "metadata": {
  "kernelspec": {
   "display_name": "Python 3 (ipykernel)",
   "language": "python",
   "name": "python3"
  },
  "language_info": {
   "codemirror_mode": {
    "name": "ipython",
    "version": 3
   },
   "file_extension": ".py",
   "mimetype": "text/x-python",
   "name": "python",
   "nbconvert_exporter": "python",
   "pygments_lexer": "ipython3",
   "version": "3.9.13"
  }
 },
 "nbformat": 4,
 "nbformat_minor": 5
}
